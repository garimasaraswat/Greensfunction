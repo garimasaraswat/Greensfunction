{
 "cells": [
  {
   "cell_type": "code",
   "execution_count": 1,
   "metadata": {
    "collapsed": false,
    "deletable": true,
    "editable": true
   },
   "outputs": [],
   "source": [
    "import get_sm4_data_v2 as gd\n",
    "import time\n",
    "head_path=\"../../Data/STM_raw_data/4K/\"\n",
    "#%pylab notebook"
   ]
  },
  {
   "cell_type": "code",
   "execution_count": 2,
   "metadata": {
    "collapsed": false,
    "deletable": true,
    "editable": true,
    "scrolled": false
   },
   "outputs": [
    {
     "name": "stdout",
     "output_type": "stream",
     "text": [
      "../../Data/STM_raw_data/4K/Aug2018//18h07/\n",
      "For  18h07T0001.SM4  spectrum does not exist.\n",
      "For  18h07T0002.SM4  spectrum does not exist.\n",
      "For  18h07T0003.SM4  spectrum does not exist.\n"
     ]
    }
   ],
   "source": [
    "#ioff()\n",
    "head_path=\"../../Data/STM_raw_data/4K/Aug2018/\"\n",
    "cdir=gd.return_cdirs(\"\",head_path) ; cid=cdir.index('18h07')\n",
    "data_path = head_path + \"/\" + cdir[cid]+\"/\"\n",
    "print data_path\n",
    "figpath=\"./results/\" + cdir[cid]  + \"/\"\n",
    "!mkdir -p $figpath\n",
    "file_listS,smdataS,raw_data,map_S2npt=gd.get_sm4_data(data_path,file_type=\"\",grad_thr=2.,return_raw=True)\n",
    "gd.plot_spectra(file_listS,smdataS,figpath,interactive=False,reso=80,ext=\".png\")\n",
    "#gd.make_movie(file_listS,figpath)"
   ]
  }
 ],
 "metadata": {
  "kernelspec": {
   "display_name": "Python 2",
   "language": "python",
   "name": "python2"
  },
  "language_info": {
   "codemirror_mode": {
    "name": "ipython",
    "version": 2
   },
   "file_extension": ".py",
   "mimetype": "text/x-python",
   "name": "python",
   "nbconvert_exporter": "python",
   "pygments_lexer": "ipython2",
   "version": "2.7.13"
  }
 },
 "nbformat": 4,
 "nbformat_minor": 2
}
